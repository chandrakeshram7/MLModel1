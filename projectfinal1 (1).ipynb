{
 "cells": [
  {
   "cell_type": "code",
   "execution_count": 1,
   "id": "55091706",
   "metadata": {},
   "outputs": [],
   "source": [
    "import pandas as pd  # Example using Python and pandas for data manipulation\n",
    "# Add other libraries or modules as needed\n"
   ]
  },
  {
   "cell_type": "code",
   "execution_count": null,
   "id": "2320f9e6",
   "metadata": {},
   "outputs": [],
   "source": [
    "\n"
   ]
  },
  {
   "cell_type": "code",
   "execution_count": null,
   "id": "e86e8c97",
   "metadata": {},
   "outputs": [],
   "source": []
  },
  {
   "cell_type": "code",
   "execution_count": 8,
   "id": "3f2fc426",
   "metadata": {},
   "outputs": [
    {
     "name": "stdout",
     "output_type": "stream",
     "text": [
      "Recommended schemes for the farmer:\n"
     ]
    }
   ],
   "source": [
    "schemes_df = pd.read_csv(\"LastDataset_2.csv\")  # Example for CSV file\n",
    "def similarity_score(farmer_profile, scheme):\n",
    "    score = 0\n",
    "    for key in farmer_profile:\n",
    "        if key in scheme and farmer_profile[key] == scheme[key]:\n",
    "            score += 1  # Increment score for exact matches\n",
    "\n",
    "    # You can add more sophisticated logic here, such as:\n",
    "    # - Weighted scores for different attributes\n",
    "    # - Partial matches for text-based attributes\n",
    "    # - Handling numerical attributes differently\n",
    "    # - Using similarity measures like cosine similarity or Jaccard similarity\n",
    "\n",
    "    return score\n",
    "\n",
    "# Get farmer's information (replace with your input method)\n",
    "farmer_profile = {\n",
    "    \"Crop_Type\":\"Pulses\",\n",
    "    \"Farm_Size(Acre)\":\"2\",\n",
    "    \"Crop_Names\":\"Urad\",\n",
    "    \"Water_Availability\":\"Yes\",\n",
    "    \"Annual_Income_of_Farmer\":\"NA\",\n",
    "    \"District\":\"Solapur\"\n",
    "    # ... (add other relevant attributes)\n",
    "}\n",
    "\n",
    "# Recommend schemes\n",
    "recommended_schemes = []\n",
    "for scheme_id, scheme_data in schemes_df.iterrows():\n",
    "    score = similarity_score(farmer_profile, scheme_data)\n",
    "    if score > 4:\n",
    "        recommended_schemes.append((scheme_id, score))\n",
    "\n",
    "# Sort recommendations by descending similarity score\n",
    "recommended_schemes.sort(key=lambda x: x[1], reverse=True)\n",
    "NUMBER_OF_RECOMMENDATIONS=5\n",
    "# Limit recommendations to a specific number\n",
    "recommended_schemes = recommended_schemes[:NUMBER_OF_RECOMMENDATIONS]\n",
    "\n",
    "# Present recommended schemes to the user (replace with your output format)\n",
    "print(\"Recommended schemes for the farmer:\")\n",
    "for scheme_id, score in recommended_schemes:\n",
    "    scheme_name = schemes_df.loc[scheme_id, \"Scheme\"]  # Retrieve scheme name from the DataFrame\n",
    "    scheme_link= schemes_df.loc[scheme_id, \"Link\"]\n",
    "    print(f\"- Scheme Name: {scheme_name} Link: {scheme_link}\")\n"
   ]
  },
  {
   "cell_type": "code",
   "execution_count": null,
   "id": "1529f193",
   "metadata": {},
   "outputs": [],
   "source": []
  },
  {
   "cell_type": "code",
   "execution_count": null,
   "id": "abe63593",
   "metadata": {},
   "outputs": [],
   "source": []
  }
 ],
 "metadata": {
  "kernelspec": {
   "display_name": "Python 3 (ipykernel)",
   "language": "python",
   "name": "python3"
  },
  "language_info": {
   "codemirror_mode": {
    "name": "ipython",
    "version": 3
   },
   "file_extension": ".py",
   "mimetype": "text/x-python",
   "name": "python",
   "nbconvert_exporter": "python",
   "pygments_lexer": "ipython3",
   "version": "3.9.13"
  }
 },
 "nbformat": 4,
 "nbformat_minor": 5
}
